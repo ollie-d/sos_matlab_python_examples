{
 "cells": [
  {
   "cell_type": "markdown",
   "id": "d407e821",
   "metadata": {
    "kernel": "SoS"
   },
   "source": [
    "# SoS Kernel with implied Python (SoS) and MATLAB subkernels"
   ]
  },
  {
   "cell_type": "markdown",
   "id": "70cc469c",
   "metadata": {
    "kernel": "SoS"
   },
   "source": [
    "Define a vector `x` with 3 values in MATLAB"
   ]
  },
  {
   "cell_type": "code",
   "execution_count": 1,
   "id": "fb654bec",
   "metadata": {
    "kernel": "SoS"
   },
   "outputs": [
    {
     "data": {
      "text/html": [
       "<table>\n",
       "            <tr>\n",
       "                <th>Subkernel</th>\n",
       "                <th>Kernel Name</th>\n",
       "                <th>Language</th>\n",
       "                <th>Language Module</th>\n",
       "                <th  style=\"text-align:left\">Interpreter</th>\n",
       "            </tr>        <tr>\n",
       "        <td>MATLAB</td>\n",
       "        <td><code>imatlab</code></td>\n",
       "        <td>matlab</td>\n",
       "        <td><code>sos_matlab</code></td>\n",
       "        <td style=\"text-align:left\"><code>C:\\Users\\H8801\\miniconda3\\envs\\sos\\python.exe</code></td>\n",
       "        </tr>        <tr>\n",
       "        <td>Octave</td>\n",
       "        <td><code>octave</code></td>\n",
       "        <td>octave</td>\n",
       "        <td><code>sos_matlab</code></td>\n",
       "        <td style=\"text-align:left\"><code>C:\\Users\\H8801\\miniconda3\\envs\\matlab\\python.exe</code></td>\n",
       "        </tr>        <tr>\n",
       "        <td>Python3</td>\n",
       "        <td><code>python3</code></td>\n",
       "        <td>python</td>\n",
       "        <td><code>sos_python</code></td>\n",
       "        <td style=\"text-align:left\"><code>C:/Users/H8801/miniconda3/envs/sos\\python.exe</code></td>\n",
       "        </tr>        <tr>\n",
       "        <td>SoS</td>\n",
       "        <td><code>sos</code></td>\n",
       "        <td>sos</td>\n",
       "        <td></td>\n",
       "        <td style=\"text-align:left\"><code>C:/Users/H8801/miniconda3/envs/sos\\python.exe</code></td>\n",
       "        </tr></table>"
      ]
     },
     "metadata": {},
     "output_type": "display_data"
    }
   ],
   "source": [
    "%use"
   ]
  },
  {
   "cell_type": "code",
   "execution_count": 2,
   "id": "6df03860",
   "metadata": {
    "kernel": "MATLAB"
   },
   "outputs": [
    {
     "name": "stdout",
     "output_type": "stream",
     "text": []
    },
    {
     "name": "stderr",
     "output_type": "stream",
     "text": []
    },
    {
     "name": "stdout",
     "output_type": "stream",
     "text": [
      "\n",
      "x =\n",
      "\n",
      "     1     2     3\n",
      "\n"
     ]
    },
    {
     "name": "stderr",
     "output_type": "stream",
     "text": []
    }
   ],
   "source": [
    "x = [1 2 3]\n"
   ]
  },
  {
   "cell_type": "code",
   "execution_count": 3,
   "id": "22bf104d",
   "metadata": {
    "kernel": "MATLAB"
   },
   "outputs": [
    {
     "name": "stdout",
     "output_type": "stream",
     "text": []
    },
    {
     "name": "stderr",
     "output_type": "stream",
     "text": []
    }
   ],
   "source": [
    "%plot inline\n",
    "plot(1:1:10)"
   ]
  },
  {
   "cell_type": "markdown",
   "id": "f5d83c93",
   "metadata": {
    "kernel": "MATLAB"
   },
   "source": [
    "Convert the vector `x` from MATLAB -> Python (SoS) and print its value and type"
   ]
  },
  {
   "cell_type": "code",
   "execution_count": null,
   "id": "4cc6fa1e",
   "metadata": {
    "kernel": "SoS"
   },
   "outputs": [],
   "source": [
    "%get x --from MATLAB\n",
    "print(x)\n",
    "type(x)"
   ]
  },
  {
   "cell_type": "markdown",
   "id": "5852a31a",
   "metadata": {
    "kernel": "SoS"
   },
   "source": [
    "Now we'll define a numpy array..."
   ]
  },
  {
   "cell_type": "code",
   "execution_count": null,
   "id": "8eab758d",
   "metadata": {
    "kernel": "SoS"
   },
   "outputs": [],
   "source": [
    "import numpy as np\n",
    "z = np.array([-1, -2, -3])"
   ]
  },
  {
   "cell_type": "markdown",
   "id": "3dc008c1",
   "metadata": {
    "kernel": "SoS"
   },
   "source": [
    "... and convert it into MATLAB and print it"
   ]
  },
  {
   "cell_type": "code",
   "execution_count": null,
   "id": "eb4e617e",
   "metadata": {
    "kernel": "MATLAB"
   },
   "outputs": [],
   "source": [
    "%get z\n",
    "disp(z) % in-line comments still work in MATLAB\n",
    "% as do comments NOT on the first line (1st line == magics)\n",
    "%e.g.\n",
    "%get z"
   ]
  }
 ],
 "metadata": {
  "kernelspec": {
   "display_name": "SoS",
   "language": "sos",
   "name": "sos"
  },
  "language_info": {
   "codemirror_mode": "sos",
   "file_extension": ".sos",
   "mimetype": "text/x-sos",
   "name": "sos",
   "nbconvert_exporter": "sos_notebook.converter.SoS_Exporter",
   "pygments_lexer": "sos"
  },
  "sos": {
   "kernels": [
    [
     "MATLAB",
     "imatlab",
     "MATLAB",
     "#8ee7f1",
     "octave"
    ],
    [
     "SoS",
     "sos",
     "",
     "",
     "sos"
    ]
   ],
   "panel": {
    "displayed": false,
    "height": 0
   },
   "version": "0.24.0"
  }
 },
 "nbformat": 4,
 "nbformat_minor": 5
}
