{
 "cells": [
  {
   "cell_type": "markdown",
   "id": "d407e821",
   "metadata": {
    "kernel": "SoS"
   },
   "source": [
    "# SoS Kernel with implied Python (SoS) and MATLAB subkernels"
   ]
  },
  {
   "cell_type": "markdown",
   "id": "70cc469c",
   "metadata": {
    "kernel": "SoS"
   },
   "source": [
    "Define a vector `x` with 3 values in MATLAB"
   ]
  },
  {
   "cell_type": "code",
   "execution_count": 1,
   "id": "6df03860",
   "metadata": {
    "kernel": "MATLAB"
   },
   "outputs": [
    {
     "name": "stdout",
     "output_type": "stream",
     "text": []
    },
    {
     "name": "stderr",
     "output_type": "stream",
     "text": []
    },
    {
     "name": "stdout",
     "output_type": "stream",
     "text": [
      "\n",
      "x =\n",
      "\n",
      "     1     2     3\n",
      "\n"
     ]
    },
    {
     "name": "stderr",
     "output_type": "stream",
     "text": []
    }
   ],
   "source": [
    "x = [1 2 3]"
   ]
  },
  {
   "cell_type": "markdown",
   "id": "f5d83c93",
   "metadata": {
    "kernel": "MATLAB"
   },
   "source": [
    "Convert the vector `x` from MATLAB -> Python (SoS) and print its value and type"
   ]
  },
  {
   "cell_type": "code",
   "execution_count": 2,
   "id": "4cc6fa1e",
   "metadata": {
    "kernel": "SoS"
   },
   "outputs": [
    {
     "name": "stdout",
     "output_type": "stream",
     "text": [
      "[1 2 3]\n"
     ]
    },
    {
     "data": {
      "text/plain": [
       "numpy.ndarray"
      ]
     },
     "execution_count": 2,
     "metadata": {},
     "output_type": "execute_result"
    }
   ],
   "source": [
    "%get x --from MATLAB\n",
    "print(x)\n",
    "type(x)"
   ]
  },
  {
   "cell_type": "markdown",
   "id": "5852a31a",
   "metadata": {
    "kernel": "SoS"
   },
   "source": [
    "Now we'll define a numpy array..."
   ]
  },
  {
   "cell_type": "code",
   "execution_count": 3,
   "id": "8eab758d",
   "metadata": {
    "kernel": "SoS"
   },
   "outputs": [],
   "source": [
    "import numpy as np\n",
    "z = np.array([-1, -2, -3])"
   ]
  },
  {
   "cell_type": "markdown",
   "id": "3dc008c1",
   "metadata": {
    "kernel": "SoS"
   },
   "source": [
    "... and convert it into MATLAB and print it"
   ]
  },
  {
   "cell_type": "code",
   "execution_count": 4,
   "id": "eb4e617e",
   "metadata": {
    "kernel": "MATLAB"
   },
   "outputs": [
    {
     "name": "stdout",
     "output_type": "stream",
     "text": [
      "   -1   -2   -3\n",
      "\n"
     ]
    },
    {
     "name": "stderr",
     "output_type": "stream",
     "text": []
    }
   ],
   "source": [
    "%get z\n",
    "disp(z) % in-line comments still work in MATLAB\n",
    "% as do comments NOT on the first line (1st line == magics)\n",
    "%e.g.\n",
    "%get z"
   ]
  }
 ],
 "metadata": {
  "kernelspec": {
   "display_name": "SoS",
   "language": "sos",
   "name": "sos"
  },
  "language_info": {
   "codemirror_mode": "sos",
   "file_extension": ".sos",
   "mimetype": "text/x-sos",
   "name": "sos",
   "nbconvert_exporter": "sos_notebook.converter.SoS_Exporter",
   "pygments_lexer": "sos"
  },
  "sos": {
   "kernels": [
    [
     "MATLAB",
     "imatlab",
     "MATLAB",
     "#8ee7f1",
     "octave"
    ],
    [
     "SoS",
     "sos",
     "",
     "",
     "sos"
    ]
   ],
   "panel": {
    "displayed": false,
    "height": 0
   },
   "version": "0.23.4"
  }
 },
 "nbformat": 4,
 "nbformat_minor": 5
}
