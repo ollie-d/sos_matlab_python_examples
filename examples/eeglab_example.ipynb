{
 "cells": [
  {
   "cell_type": "markdown",
   "id": "bb69fae5",
   "metadata": {
    "kernel": "SoS"
   },
   "source": [
    "Let's attempt to utilize `eeglab`, our target MATLAB toolbox using SoS"
   ]
  },
  {
   "cell_type": "code",
   "execution_count": 1,
   "id": "dd65bab8",
   "metadata": {
    "kernel": "MATLAB"
   },
   "outputs": [
    {
     "name": "stdout",
     "output_type": "stream",
     "text": []
    },
    {
     "name": "stderr",
     "output_type": "stream",
     "text": []
    },
    {
     "name": "stdout",
     "output_type": "stream",
     "text": [
      "Some menus items hidden. Use Preference menu to show them all.\n",
      "eeglab: options file is C:\\Users\\H8801\\eeg_options.m\n",
      "Retrieving plugin versions from server...\n",
      "Retrieving download statistics...\n",
      "EEGLAB: adding \"ICLabel\" v1.4 (see >> help eegplugin_iclabel)\n",
      "EEGLAB: adding \"clean_rawdata\" v2.7 (see >> help eegplugin_clean_rawdata)\n",
      "EEGLAB: adding \"dipfit\" v4.3 (see >> help eegplugin_dipfit)\n",
      "EEGLAB: adding \"firfilt\" v2.5.1 (see >> help eegplugin_firfilt)You are using the latest version of EEGLAB.\n"
     ]
    },
    {
     "name": "stderr",
     "output_type": "stream",
     "text": [
      "Warning: EEGLAB is in the MATLAB toolbox folder which is not recommended\n",
      "         You may experience errors if a plugin overloads a MATLAB function\n",
      " - new version 2.6 available\n"
     ]
    }
   ],
   "source": [
    "eeglab"
   ]
  },
  {
   "cell_type": "markdown",
   "id": "489aeaef",
   "metadata": {
    "kernel": "MATLAB"
   },
   "source": [
    "Wow, that worked... Okay cool. Let's load in some example data"
   ]
  },
  {
   "cell_type": "code",
   "execution_count": 2,
   "id": "991b6735",
   "metadata": {
    "kernel": "MATLAB"
   },
   "outputs": [
    {
     "name": "stdout",
     "output_type": "stream",
     "text": []
    },
    {
     "name": "stderr",
     "output_type": "stream",
     "text": []
    }
   ],
   "source": [
    "% First-line commenting does work if it doesn't detect a magic :)\n",
    "EEG = "
   ]
  },
  {
   "cell_type": "code",
   "execution_count": null,
   "id": "129763a8",
   "metadata": {
    "kernel": "MATLAB"
   },
   "outputs": [],
   "source": []
  }
 ],
 "metadata": {
  "kernelspec": {
   "display_name": "SoS",
   "language": "sos",
   "name": "sos"
  },
  "language_info": {
   "codemirror_mode": "sos",
   "file_extension": ".sos",
   "mimetype": "text/x-sos",
   "name": "sos",
   "nbconvert_exporter": "sos_notebook.converter.SoS_Exporter",
   "pygments_lexer": "sos"
  },
  "sos": {
   "kernels": [
    [
     "MATLAB",
     "imatlab",
     "MATLAB",
     "#8ee7f1",
     ""
    ]
   ],
   "panel": {
    "displayed": false,
    "height": 0
   },
   "version": "0.23.4"
  }
 },
 "nbformat": 4,
 "nbformat_minor": 5
}
